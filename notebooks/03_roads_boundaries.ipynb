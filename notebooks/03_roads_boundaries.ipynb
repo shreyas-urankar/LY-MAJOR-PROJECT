{
 "cells": [
  {
   "cell_type": "code",
   "execution_count": 1,
   "id": "93f46e1a",
   "metadata": {},
   "outputs": [
    {
     "name": "stdout",
     "output_type": "stream",
     "text": [
      "Ensured: C:\\Users\\Lenovo\\Desktop\\LY MAJOR PROJECT\\data/images\n",
      "Ensured: C:\\Users\\Lenovo\\Desktop\\LY MAJOR PROJECT\\data/population\n",
      "Ensured: C:\\Users\\Lenovo\\Desktop\\LY MAJOR PROJECT\\data/roads\n",
      "Ensured: C:\\Users\\Lenovo\\Desktop\\LY MAJOR PROJECT\\data/boundaries\n",
      "Ensured: C:\\Users\\Lenovo\\Desktop\\LY MAJOR PROJECT\\data/processed\n",
      "Ensured: C:\\Users\\Lenovo\\Desktop\\LY MAJOR PROJECT\\data/patches\n",
      "Ensured: C:\\Users\\Lenovo\\Desktop\\LY MAJOR PROJECT\\outputs/maps\n",
      "Ensured: C:\\Users\\Lenovo\\Desktop\\LY MAJOR PROJECT\\notebooks\n"
     ]
    }
   ],
   "source": [
    "import os\n",
    "\n",
    "base = r\"C:\\Users\\Lenovo\\Desktop\\LY MAJOR PROJECT\"\n",
    "folders = [\n",
    "    \"data/images\",\n",
    "    \"data/population\",\n",
    "    \"data/roads\",\n",
    "    \"data/boundaries\",\n",
    "    \"data/processed\",\n",
    "    \"data/patches\",\n",
    "    \"outputs/maps\",\n",
    "    \"notebooks\"\n",
    "]\n",
    "for f in folders:\n",
    "    path = os.path.join(base, f)\n",
    "    os.makedirs(path, exist_ok=True)\n",
    "    print(\"Ensured:\", path)\n"
   ]
  },
  {
   "cell_type": "code",
   "execution_count": 2,
   "id": "ba0e269f",
   "metadata": {},
   "outputs": [
    {
     "name": "stdout",
     "output_type": "stream",
     "text": [
      "Saved roads shapefile: C:\\Users\\Lenovo\\Desktop\\LY MAJOR PROJECT\\data\\roads\\pune_roads.shp\n"
     ]
    }
   ],
   "source": [
    "import osmnx as ox\n",
    "import geopandas as gpd\n",
    "\n",
    "# Choose place name exactly; \"Pune, India\" works\n",
    "place = \"Pune, Maharashtra, India\"\n",
    "\n",
    "# Fetch road network (drive type; use 'all' for everything)\n",
    "G = ox.graph_from_place(place, network_type='drive')\n",
    "\n",
    "# Convert to GeoDataFrame edges\n",
    "gdf_edges = ox.graph_to_gdfs(G, nodes=False, edges=True)\n",
    "\n",
    "# Save shapefile\n",
    "out_dir = r\"C:\\Users\\Lenovo\\Desktop\\LY MAJOR PROJECT\\data\\roads\"\n",
    "os.makedirs(out_dir, exist_ok=True)\n",
    "roads_shp = os.path.join(out_dir, \"pune_roads.shp\")\n",
    "gdf_edges.to_file(roads_shp)\n",
    "print(\"Saved roads shapefile:\", roads_shp)\n"
   ]
  },
  {
   "cell_type": "code",
   "execution_count": null,
   "id": "7ca8a940",
   "metadata": {},
   "outputs": [],
   "source": []
  }
 ],
 "metadata": {
  "kernelspec": {
   "display_name": "urbangrowth",
   "language": "python",
   "name": "python3"
  },
  "language_info": {
   "codemirror_mode": {
    "name": "ipython",
    "version": 3
   },
   "file_extension": ".py",
   "mimetype": "text/x-python",
   "name": "python",
   "nbconvert_exporter": "python",
   "pygments_lexer": "ipython3",
   "version": "3.12.11"
  }
 },
 "nbformat": 4,
 "nbformat_minor": 5
}
