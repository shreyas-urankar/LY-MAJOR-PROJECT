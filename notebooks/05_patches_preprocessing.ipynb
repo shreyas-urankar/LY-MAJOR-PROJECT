{
 "cells": [
  {
   "cell_type": "code",
   "execution_count": 12,
   "id": "dd3b8475",
   "metadata": {},
   "outputs": [
    {
     "name": "stdout",
     "output_type": "stream",
     "text": [
      "Base: C:\\Users\\Lenovo\\Desktop\\LY MAJOR PROJECT\n",
      "Images folder: C:\\Users\\Lenovo\\Desktop\\LY MAJOR PROJECT\\data\\images\n"
     ]
    }
   ],
   "source": [
    "# Notebook config (run this first cell)\n",
    "from pathlib import Path\n",
    "import os, sys\n",
    "\n",
    "BASE = Path(r\"C:\\Users\\Lenovo\\Desktop\\LY MAJOR PROJECT\")   # change if needed\n",
    "DATA = BASE / \"data\"\n",
    "IMAGES = DATA / \"images\"\n",
    "POP = DATA / \"population\"\n",
    "ROADS = DATA / \"roads\"\n",
    "BOUNDARIES = DATA / \"boundaries\"\n",
    "PROCESSED = DATA / \"processed\"\n",
    "PATCHES = DATA / \"patches\"\n",
    "OUTPUTS = BASE / \"outputs\"\n",
    "\n",
    "# Create folders (safe)\n",
    "for p in [PROCESSED, PATCHES, OUTPUTS, OUTPUTS/\"maps\", OUTPUTS/\"charts\"]:\n",
    "    p.mkdir(parents=True, exist_ok=True)\n",
    "\n",
    "print(\"Base:\", BASE)\n",
    "print(\"Images folder:\", IMAGES)\n"
   ]
  },
  {
   "cell_type": "code",
   "execution_count": 13,
   "id": "346a077c",
   "metadata": {},
   "outputs": [
    {
     "name": "stdout",
     "output_type": "stream",
     "text": [
      "Available keys: ['features']\n",
      "Features shape: (3451, 3508, 7)\n",
      "✅ Created 2862 patches of size 64x64 with 7 bands.\n",
      "Patches shape: (2862, 64, 64, 7)\n",
      "Normalized range: 0.0 1.0\n",
      "Train: (2003, 64, 64, 7)\n",
      "Val: (429, 64, 64, 7)\n",
      "Test: (430, 64, 64, 7)\n",
      "✅ Saved train/val/test patch datasets!\n"
     ]
    }
   ],
   "source": [
    "import numpy as np\n",
    "from sklearn.model_selection import train_test_split\n",
    "import os\n",
    "\n",
    "data_path = r\"C:\\Users\\Lenovo\\Desktop\\LY MAJOR PROJECT\\data\\processed\\features_stack.npz\"\n",
    "data = np.load(data_path)\n",
    "print(\"Available keys:\", list(data.keys()))\n",
    "\n",
    "# Load feature data\n",
    "features = data[\"features\"]  # shape: (3451, 3508, 7)\n",
    "print(\"Features shape:\", features.shape)\n",
    "\n",
    "# -----------------------------\n",
    "# 1. Parameters\n",
    "# -----------------------------\n",
    "PATCH_SIZE = 64\n",
    "train_ratio = 0.7\n",
    "val_ratio = 0.15\n",
    "test_ratio = 0.15\n",
    "\n",
    "# -----------------------------\n",
    "# 2. Patch Creation\n",
    "# -----------------------------\n",
    "def create_patches(features, patch_size=64):\n",
    "    \"\"\"Create patches from (H, W, Bands) raster.\"\"\"\n",
    "    H, W, B = features.shape\n",
    "    patches = []\n",
    "    \n",
    "    for i in range(0, H - patch_size + 1, patch_size):\n",
    "        for j in range(0, W - patch_size + 1, patch_size):\n",
    "            patch = features[i:i+patch_size, j:j+patch_size, :]\n",
    "            patches.append(patch)\n",
    "    patches = np.array(patches)\n",
    "    print(f\"✅ Created {patches.shape[0]} patches of size {patch_size}x{patch_size} with {B} bands.\")\n",
    "    return patches\n",
    "\n",
    "patches = create_patches(features, PATCH_SIZE)\n",
    "print(\"Patches shape:\", patches.shape)\n",
    "\n",
    "# -----------------------------\n",
    "# 3. Normalize per band\n",
    "# -----------------------------\n",
    "def normalize_patches(patches):\n",
    "    \"\"\"Normalize each patch per band.\"\"\"\n",
    "    patches = patches.astype(\"float32\")\n",
    "    for b in range(patches.shape[-1]):\n",
    "        band = patches[..., b]\n",
    "        min_val, max_val = band.min(), band.max()\n",
    "        patches[..., b] = (band - min_val) / (max_val - min_val + 1e-6)\n",
    "    return patches\n",
    "\n",
    "patches = normalize_patches(patches)\n",
    "print(\"Normalized range:\", patches.min(), patches.max())\n",
    "\n",
    "# -----------------------------\n",
    "# 4. Train/Val/Test Split\n",
    "# -----------------------------\n",
    "X_train, X_temp = train_test_split(patches, test_size=(1-train_ratio), random_state=42)\n",
    "X_val, X_test = train_test_split(X_temp, test_size=test_ratio/(test_ratio+val_ratio), random_state=42)\n",
    "\n",
    "print(\"Train:\", X_train.shape)\n",
    "print(\"Val:\", X_val.shape)\n",
    "print(\"Test:\", X_test.shape)\n",
    "\n",
    "# -----------------------------\n",
    "# 5. Save to Disk\n",
    "# -----------------------------\n",
    "output_dir = r\"C:\\Users\\Lenovo\\Desktop\\LY MAJOR PROJECT\\data\\processed\"\n",
    "os.makedirs(output_dir, exist_ok=True)\n",
    "\n",
    "np.savez_compressed(os.path.join(output_dir, \"train.npz\"), X=X_train)\n",
    "np.savez_compressed(os.path.join(output_dir, \"val.npz\"), X=X_val)\n",
    "np.savez_compressed(os.path.join(output_dir, \"test.npz\"), X=X_test)\n",
    "\n",
    "print(\"✅ Saved train/val/test patch datasets!\")\n"
   ]
  }
 ],
 "metadata": {
  "kernelspec": {
   "display_name": "urbangrowth",
   "language": "python",
   "name": "python3"
  },
  "language_info": {
   "codemirror_mode": {
    "name": "ipython",
    "version": 3
   },
   "file_extension": ".py",
   "mimetype": "text/x-python",
   "name": "python",
   "nbconvert_exporter": "python",
   "pygments_lexer": "ipython3",
   "version": "3.12.11"
  }
 },
 "nbformat": 4,
 "nbformat_minor": 5
}
