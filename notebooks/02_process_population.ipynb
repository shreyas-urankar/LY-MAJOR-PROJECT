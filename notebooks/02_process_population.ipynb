{
 "cells": [
  {
   "cell_type": "code",
   "execution_count": 3,
   "id": "463e011d",
   "metadata": {},
   "outputs": [
    {
     "name": "stdout",
     "output_type": "stream",
     "text": [
      "Ensured: C:\\Users\\Lenovo\\Desktop\\LY MAJOR PROJECT\\data/images\n",
      "Ensured: C:\\Users\\Lenovo\\Desktop\\LY MAJOR PROJECT\\data/population\n",
      "Ensured: C:\\Users\\Lenovo\\Desktop\\LY MAJOR PROJECT\\data/roads\n",
      "Ensured: C:\\Users\\Lenovo\\Desktop\\LY MAJOR PROJECT\\data/boundaries\n",
      "Ensured: C:\\Users\\Lenovo\\Desktop\\LY MAJOR PROJECT\\data/processed\n",
      "Ensured: C:\\Users\\Lenovo\\Desktop\\LY MAJOR PROJECT\\data/patches\n",
      "Ensured: C:\\Users\\Lenovo\\Desktop\\LY MAJOR PROJECT\\outputs/maps\n",
      "Ensured: C:\\Users\\Lenovo\\Desktop\\LY MAJOR PROJECT\\notebooks\n"
     ]
    }
   ],
   "source": [
    "import os\n",
    "\n",
    "base = r\"C:\\Users\\Lenovo\\Desktop\\LY MAJOR PROJECT\"\n",
    "folders = [\n",
    "    \"data/images\",\n",
    "    \"data/population\",\n",
    "    \"data/roads\",\n",
    "    \"data/boundaries\",\n",
    "    \"data/processed\",\n",
    "    \"data/patches\",\n",
    "    \"outputs/maps\",\n",
    "    \"notebooks\"\n",
    "]\n",
    "for f in folders:\n",
    "    path = os.path.join(base, f)\n",
    "    os.makedirs(path, exist_ok=True)\n",
    "    print(\"Ensured:\", path)\n"
   ]
  },
  {
   "cell_type": "code",
   "execution_count": 5,
   "id": "fdcbdf95",
   "metadata": {},
   "outputs": [
    {
     "name": "stdout",
     "output_type": "stream",
     "text": [
      "✅ Saved resampled population raster: C:\\Users\\Lenovo\\Desktop\\LY MAJOR PROJECT\\data\\processed\\resampled_pop_2000.tif\n",
      "✅ Saved resampled population raster: C:\\Users\\Lenovo\\Desktop\\LY MAJOR PROJECT\\data\\processed\\resampled_pop_2005.tif\n",
      "✅ Saved resampled population raster: C:\\Users\\Lenovo\\Desktop\\LY MAJOR PROJECT\\data\\processed\\resampled_pop_2010.tif\n",
      "✅ Saved resampled population raster: C:\\Users\\Lenovo\\Desktop\\LY MAJOR PROJECT\\data\\processed\\resampled_pop_2015.tif\n",
      "✅ Saved resampled population raster: C:\\Users\\Lenovo\\Desktop\\LY MAJOR PROJECT\\data\\processed\\resampled_pop_2020.tif\n"
     ]
    }
   ],
   "source": [
    "import rasterio\n",
    "import numpy as np\n",
    "from rasterio.warp import reproject, Resampling\n",
    "import os\n",
    "\n",
    "# Reference raster (from your satellite data, ensures same grid/extent)\n",
    "ref_raster = r\"C:\\Users\\Lenovo\\Desktop\\LY MAJOR PROJECT\\data\\images\\LC09_L2SP_147047_20250902_20250904_02_T2_SR_B3.TIF\"\n",
    "\n",
    "# Input population rasters (WorldPop/GPW for India)\n",
    "pop_files = {\n",
    "    2000: r\"C:\\Users\\Lenovo\\Desktop\\LY MAJOR PROJECT\\data\\population\\ind_pd_2000_1km_UNadj.tif\",\n",
    "    2005: r\"C:\\Users\\Lenovo\\Desktop\\LY MAJOR PROJECT\\data\\population\\ind_pd_2005_1km_UNadj.tif\",\n",
    "    2010: r\"C:\\Users\\Lenovo\\Desktop\\LY MAJOR PROJECT\\data\\population\\ind_pd_2010_1km_UNadj.tif\",\n",
    "    2015: r\"C:\\Users\\Lenovo\\Desktop\\LY MAJOR PROJECT\\data\\population\\ind_pd_2015_1km_UNadj.tif\",\n",
    "    2020: r\"C:\\Users\\Lenovo\\Desktop\\LY MAJOR PROJECT\\data\\population\\ind_pd_2020_1km_UNadj.tif\"\n",
    "}\n",
    "\n",
    "# Output folder\n",
    "out_dir = r\"C:\\Users\\Lenovo\\Desktop\\LY MAJOR PROJECT\\data\\processed\"\n",
    "os.makedirs(out_dir, exist_ok=True)\n",
    "\n",
    "# Load reference metadata (satellite band)\n",
    "with rasterio.open(ref_raster) as ref:\n",
    "    ref_meta = ref.meta.copy()\n",
    "\n",
    "# Loop through all population years\n",
    "for year, pop_in in pop_files.items():\n",
    "    pop_out = os.path.join(out_dir, f\"resampled_pop_{year}.tif\")\n",
    "    \n",
    "    with rasterio.open(pop_in) as src:\n",
    "        src_arr = src.read(1)\n",
    "\n",
    "        dst = np.empty((ref_meta['height'], ref_meta['width']), dtype='float32')\n",
    "\n",
    "        reproject(\n",
    "            source=src_arr,\n",
    "            destination=dst,\n",
    "            src_transform=src.transform,\n",
    "            src_crs=src.crs,\n",
    "            dst_transform=ref_meta['transform'],\n",
    "            dst_crs=ref_meta['crs'],\n",
    "            resampling=Resampling.bilinear\n",
    "        )\n",
    "\n",
    "        out_meta = ref_meta.copy()\n",
    "        out_meta.update(dtype='float32', count=1)\n",
    "\n",
    "        with rasterio.open(pop_out, 'w', **out_meta) as dstf:\n",
    "            dstf.write(dst.astype('float32'), 1)\n",
    "\n",
    "    print(f\"✅ Saved resampled population raster: {pop_out}\")\n"
   ]
  }
 ],
 "metadata": {
  "kernelspec": {
   "display_name": "urbangrowth",
   "language": "python",
   "name": "python3"
  },
  "language_info": {
   "codemirror_mode": {
    "name": "ipython",
    "version": 3
   },
   "file_extension": ".py",
   "mimetype": "text/x-python",
   "name": "python",
   "nbconvert_exporter": "python",
   "pygments_lexer": "ipython3",
   "version": "3.12.11"
  }
 },
 "nbformat": 4,
 "nbformat_minor": 5
}
